{
 "cells": [
  {
   "cell_type": "markdown",
   "metadata": {},
   "source": [
    "# Read and Display Student Details "
   ]
  },
  {
   "cell_type": "code",
   "execution_count": 2,
   "metadata": {},
   "outputs": [
    {
     "name": "stdout",
     "output_type": "stream",
     "text": [
      "Enter Student ID1\n",
      "Enter Name of StudentPrashant\n",
      "Student marks100\n",
      "Student ID: 1 student Name: Prashant Student Marks: 100.0\n"
     ]
    }
   ],
   "source": [
    "studentid = int(input(\"Enter Student ID\"))\n",
    "studentname = input(\"Enter Name of Student\")\n",
    "studentmarks = float(input(\"Student marks\"))\n",
    "\n",
    "print(\"Student ID:\", studentid, \"student Name:\", studentname , \"Student Marks:\", studentmarks)"
   ]
  },
  {
   "cell_type": "markdown",
   "metadata": {},
   "source": [
    "# Avarage of Three numbers"
   ]
  },
  {
   "cell_type": "code",
   "execution_count": 9,
   "metadata": {},
   "outputs": [
    {
     "name": "stdout",
     "output_type": "stream",
     "text": [
      "Enter 3 no for calculating AVG5 10 15\n",
      "Average of three numbers are: 10.0\n"
     ]
    }
   ],
   "source": [
    "a, b, c = [int(x) for x in input(\"Enter 3 no for calculating AVG\").split()]\n",
    "average = (a+b+c)/3\n",
    "print(\"Average of three numbers are:\", average)"
   ]
  },
  {
   "cell_type": "markdown",
   "metadata": {},
   "source": [
    "# Area of Circle "
   ]
  },
  {
   "cell_type": "code",
   "execution_count": 12,
   "metadata": {},
   "outputs": [
    {
     "name": "stdout",
     "output_type": "stream",
     "text": [
      "Enter the Area of Circle4\n",
      "Area of Circle is 50.24\n"
     ]
    }
   ],
   "source": [
    "r = float(input(\"Enter the Area of Circle\"))\n",
    "pi = 3.14\n",
    "area = pi*(r**2)\n",
    "print(\"Area of Circle is\", area)"
   ]
  },
  {
   "cell_type": "code",
   "execution_count": null,
   "metadata": {},
   "outputs": [],
   "source": []
  }
 ],
 "metadata": {
  "kernelspec": {
   "display_name": "Python 3",
   "language": "python",
   "name": "python3"
  },
  "language_info": {
   "codemirror_mode": {
    "name": "ipython",
    "version": 3
   },
   "file_extension": ".py",
   "mimetype": "text/x-python",
   "name": "python",
   "nbconvert_exporter": "python",
   "pygments_lexer": "ipython3",
   "version": "3.7.4"
  }
 },
 "nbformat": 4,
 "nbformat_minor": 2
}
